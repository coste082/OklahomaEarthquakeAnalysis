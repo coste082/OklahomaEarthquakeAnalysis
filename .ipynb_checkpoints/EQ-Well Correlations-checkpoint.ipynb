{
 "cells": [
  {
   "cell_type": "code",
   "execution_count": 250,
   "id": "11f2b92c",
   "metadata": {},
   "outputs": [],
   "source": [
    "import pandas as pd\n",
    "import geopandas as gpd\n",
    "import numpy as np"
   ]
  },
  {
   "cell_type": "code",
   "execution_count": 251,
   "id": "a0edd4b2",
   "metadata": {},
   "outputs": [],
   "source": [
    "OKquakes = pd.read_csv(\"OK_earthquake_catalog.csv\")\n",
    "\n",
    "OKquakes['origintime'] = pd.to_datetime(OKquakes['origintime'])\n",
    "OKquakes = OKquakes[OKquakes['magnitude'] != 'None']\n",
    "OKquakes['month'] = pd.to_datetime(OKquakes['origintime']).dt.to_period('M')\n",
    "OKquakes['year'] = pd.to_datetime(OKquakes['origintime']).dt.to_period('Y')\n",
    "OKquakes = OKquakes.reset_index()\n",
    "OKquakes['magnitude'] = OKquakes['magnitude'].astype(float)\n",
    "OKquakesGT2 = OKquakes[OKquakes['magnitude']>=2]\n",
    "OKquakesGT3 = OKquakes[OKquakes['magnitude']>=3]\n"
   ]
  },
  {
   "cell_type": "code",
   "execution_count": 252,
   "id": "f64363dd",
   "metadata": {},
   "outputs": [
    {
     "name": "stdout",
     "output_type": "stream",
     "text": [
      "(47934, 9)\n",
      "(26762, 9)\n",
      "(3051, 9)\n"
     ]
    }
   ],
   "source": [
    "print(OKquakes.shape)\n",
    "print(OKquakesGT2.shape)\n",
    "print(OKquakesGT3.shape)"
   ]
  },
  {
   "cell_type": "code",
   "execution_count": 253,
   "id": "e47999cf",
   "metadata": {},
   "outputs": [],
   "source": [
    "HFops_data = pd.read_csv(\"OK_fracfocus_data.csv\")\n",
    "HFops_data['JobStartDate'] = pd.to_datetime(HFops_data['JobStartDate'])\n",
    "HFops_data['JobEndDate'] = pd.to_datetime(HFops_data['JobEndDate'])"
   ]
  },
  {
   "cell_type": "code",
   "execution_count": 254,
   "id": "90d4e723",
   "metadata": {},
   "outputs": [
    {
     "data": {
      "text/html": [
       "<div>\n",
       "<style scoped>\n",
       "    .dataframe tbody tr th:only-of-type {\n",
       "        vertical-align: middle;\n",
       "    }\n",
       "\n",
       "    .dataframe tbody tr th {\n",
       "        vertical-align: top;\n",
       "    }\n",
       "\n",
       "    .dataframe thead th {\n",
       "        text-align: right;\n",
       "    }\n",
       "</style>\n",
       "<table border=\"1\" class=\"dataframe\">\n",
       "  <thead>\n",
       "    <tr style=\"text-align: right;\">\n",
       "      <th></th>\n",
       "      <th>APINumber</th>\n",
       "      <th>JobStartDate</th>\n",
       "      <th>JobEndDate</th>\n",
       "      <th>Job Length</th>\n",
       "      <th>OperatorName</th>\n",
       "      <th>WellName</th>\n",
       "      <th>Latitude</th>\n",
       "      <th>Longitude</th>\n",
       "      <th>StateName</th>\n",
       "      <th>CountyName</th>\n",
       "    </tr>\n",
       "  </thead>\n",
       "  <tbody>\n",
       "    <tr>\n",
       "      <th>0</th>\n",
       "      <td>35063243750000</td>\n",
       "      <td>2011-07-12</td>\n",
       "      <td>2011-07-16 00:00:00</td>\n",
       "      <td>4.00</td>\n",
       "      <td>XTO Energy/ExxonMobil</td>\n",
       "      <td>Reeder 4-23H</td>\n",
       "      <td>34.812528</td>\n",
       "      <td>-96.116194</td>\n",
       "      <td>Oklahoma</td>\n",
       "      <td>Hughes</td>\n",
       "    </tr>\n",
       "    <tr>\n",
       "      <th>1</th>\n",
       "      <td>35129234950000</td>\n",
       "      <td>2011-08-20</td>\n",
       "      <td>2012-04-04 11:49:00</td>\n",
       "      <td>228.49</td>\n",
       "      <td>Chesapeake Operating, Inc.</td>\n",
       "      <td>BARC TRUST 1-14H</td>\n",
       "      <td>35.510061</td>\n",
       "      <td>-99.502796</td>\n",
       "      <td>Oklahoma</td>\n",
       "      <td>Roger Mills</td>\n",
       "    </tr>\n",
       "    <tr>\n",
       "      <th>2</th>\n",
       "      <td>35129235740000</td>\n",
       "      <td>2011-12-12</td>\n",
       "      <td>2012-05-31 00:00:00</td>\n",
       "      <td>171.00</td>\n",
       "      <td>Chesapeake Operating, Inc.</td>\n",
       "      <td>WELTY 31-16-22 1H</td>\n",
       "      <td>35.812829</td>\n",
       "      <td>-99.577434</td>\n",
       "      <td>Oklahoma</td>\n",
       "      <td>Roger Mills</td>\n",
       "    </tr>\n",
       "    <tr>\n",
       "      <th>3</th>\n",
       "      <td>35069201270000</td>\n",
       "      <td>2011-12-18</td>\n",
       "      <td>2012-03-04 00:00:00</td>\n",
       "      <td>77.00</td>\n",
       "      <td>XTO Energy/ExxonMobil</td>\n",
       "      <td>Saxon 1-26H</td>\n",
       "      <td>34.182750</td>\n",
       "      <td>-96.862389</td>\n",
       "      <td>Oklahoma</td>\n",
       "      <td>Johnston</td>\n",
       "    </tr>\n",
       "    <tr>\n",
       "      <th>4</th>\n",
       "      <td>35043232270000</td>\n",
       "      <td>2012-02-01</td>\n",
       "      <td>2014-12-29 00:00:00</td>\n",
       "      <td>1062.00</td>\n",
       "      <td>Devon Energy Production Company L. P.</td>\n",
       "      <td>THREE SISTERS 1-21H</td>\n",
       "      <td>35.929180</td>\n",
       "      <td>-98.697750</td>\n",
       "      <td>Oklahoma</td>\n",
       "      <td>Dewey</td>\n",
       "    </tr>\n",
       "  </tbody>\n",
       "</table>\n",
       "</div>"
      ],
      "text/plain": [
       "        APINumber JobStartDate          JobEndDate  Job Length  \\\n",
       "0  35063243750000   2011-07-12 2011-07-16 00:00:00        4.00   \n",
       "1  35129234950000   2011-08-20 2012-04-04 11:49:00      228.49   \n",
       "2  35129235740000   2011-12-12 2012-05-31 00:00:00      171.00   \n",
       "3  35069201270000   2011-12-18 2012-03-04 00:00:00       77.00   \n",
       "4  35043232270000   2012-02-01 2014-12-29 00:00:00     1062.00   \n",
       "\n",
       "                            OperatorName             WellName   Latitude  \\\n",
       "0                  XTO Energy/ExxonMobil         Reeder 4-23H  34.812528   \n",
       "1             Chesapeake Operating, Inc.     BARC TRUST 1-14H  35.510061   \n",
       "2             Chesapeake Operating, Inc.    WELTY 31-16-22 1H  35.812829   \n",
       "3                  XTO Energy/ExxonMobil          Saxon 1-26H  34.182750   \n",
       "4  Devon Energy Production Company L. P.  THREE SISTERS 1-21H  35.929180   \n",
       "\n",
       "   Longitude StateName   CountyName  \n",
       "0 -96.116194  Oklahoma       Hughes  \n",
       "1 -99.502796  Oklahoma  Roger Mills  \n",
       "2 -99.577434  Oklahoma  Roger Mills  \n",
       "3 -96.862389  Oklahoma     Johnston  \n",
       "4 -98.697750  Oklahoma        Dewey  "
      ]
     },
     "execution_count": 254,
     "metadata": {},
     "output_type": "execute_result"
    }
   ],
   "source": [
    "HFops_data.head()"
   ]
  },
  {
   "cell_type": "code",
   "execution_count": 255,
   "id": "5a096f16",
   "metadata": {},
   "outputs": [],
   "source": [
    "HFops_geo = gpd.GeoDataFrame(HFops_data, geometry=gpd.points_from_xy(HFops_data.Longitude, HFops_data.Latitude))\n",
    "HFops_geo = HFops_geo.set_crs(\"EPSG:4326\")\n",
    "HFops_geo = HFops_geo.to_crs(\"ESRI:102008\")\n",
    "\n",
    "\n",
    "OKquakesGT3_geo = gpd.GeoDataFrame(OKquakesGT3, geometry=gpd.points_from_xy(OKquakesGT3.longitude, OKquakesGT3.latitude))\n",
    "OKquakesGT3_geo = OKquakesGT3_geo.set_crs(\"EPSG:4326\")\n",
    "OKquakesGT3_geo = OKquakesGT3_geo.to_crs(\"ESRI:102008\")\n",
    "OKquakesGT3_geo = OKquakesGT3_geo.reset_index()\n",
    "\n",
    "OKquakesGT2_geo = gpd.GeoDataFrame(OKquakesGT2, geometry=gpd.points_from_xy(OKquakesGT2.longitude, OKquakesGT2.latitude))\n",
    "OKquakesGT2_geo = OKquakesGT2_geo.set_crs(\"EPSG:4326\")\n",
    "OKquakesGT2_geo = OKquakesGT2_geo.to_crs(\"ESRI:102008\")\n",
    "OKquakesGT2_geo = OKquakesGT2_geo.reset_index()\n"
   ]
  },
  {
   "cell_type": "code",
   "execution_count": 256,
   "id": "ba0ab1e0",
   "metadata": {},
   "outputs": [],
   "source": [
    "HF_filter = HFops_geo.drop(['APINumber'], axis=1)"
   ]
  },
  {
   "cell_type": "code",
   "execution_count": 257,
   "id": "ccad1825",
   "metadata": {},
   "outputs": [],
   "source": [
    "outline_OK= gpd.read_file(\"./Shapefiles/COUNTY_BOUNDARY.shp\")\n",
    "outline_OK = outline_OK.set_crs(\"EPSG:4326\")\n",
    "outline_OK = outline_OK.to_crs(\"ESRI:102008\")"
   ]
  },
  {
   "cell_type": "code",
   "execution_count": 258,
   "id": "84eb965f",
   "metadata": {},
   "outputs": [
    {
     "data": {
      "text/plain": [
       "<AxesSubplot:>"
      ]
     },
     "execution_count": 258,
     "metadata": {},
     "output_type": "execute_result"
    },
    {
     "data": {
      "image/png": "[encoded data removed]",
      "text/plain": [
       "<Figure size 432x288 with 1 Axes>"
      ]
     },
     "metadata": {
      "needs_background": "light"
     },
     "output_type": "display_data"
    }
   ],
   "source": [
    "base = outline_OK.boundary.plot()\n",
    "OKquakesGT3_geo.plot(ax=base, marker='o', color='red', markersize=1)\n",
    "HF_filter.plot(ax=base, marker='o', color='purple', markersize=1)"
   ]
  },
  {
   "cell_type": "code",
   "execution_count": 259,
   "id": "06e5732d",
   "metadata": {},
   "outputs": [],
   "source": [
    "OKquakesGT3_geoH = OKquakesGT3_geo.head()\n",
    "HFops_geoH = HFops_geo.head()"
   ]
  },
  {
   "cell_type": "code",
   "execution_count": 260,
   "id": "199272c8",
   "metadata": {},
   "outputs": [
    {
     "data": {
      "text/html": [
       "<div>\n",
       "<style scoped>\n",
       "    .dataframe tbody tr th:only-of-type {\n",
       "        vertical-align: middle;\n",
       "    }\n",
       "\n",
       "    .dataframe tbody tr th {\n",
       "        vertical-align: top;\n",
       "    }\n",
       "\n",
       "    .dataframe thead th {\n",
       "        text-align: right;\n",
       "    }\n",
       "</style>\n",
       "<table border=\"1\" class=\"dataframe\">\n",
       "  <thead>\n",
       "    <tr style=\"text-align: right;\">\n",
       "      <th></th>\n",
       "      <th>APINumber</th>\n",
       "      <th>JobStartDate</th>\n",
       "      <th>JobEndDate</th>\n",
       "      <th>Job Length</th>\n",
       "      <th>OperatorName</th>\n",
       "      <th>WellName</th>\n",
       "      <th>Latitude</th>\n",
       "      <th>Longitude</th>\n",
       "      <th>StateName</th>\n",
       "      <th>CountyName</th>\n",
       "      <th>geometry</th>\n",
       "    </tr>\n",
       "  </thead>\n",
       "  <tbody>\n",
       "    <tr>\n",
       "      <th>0</th>\n",
       "      <td>35063243750000</td>\n",
       "      <td>2011-07-12</td>\n",
       "      <td>2011-07-16 00:00:00</td>\n",
       "      <td>4.00</td>\n",
       "      <td>XTO Energy/ExxonMobil</td>\n",
       "      <td>Reeder 4-23H</td>\n",
       "      <td>34.812528</td>\n",
       "      <td>-96.116194</td>\n",
       "      <td>Oklahoma</td>\n",
       "      <td>Hughes</td>\n",
       "      <td>POINT (-10086.733 -609548.613)</td>\n",
       "    </tr>\n",
       "    <tr>\n",
       "      <th>1</th>\n",
       "      <td>35129234950000</td>\n",
       "      <td>2011-08-20</td>\n",
       "      <td>2012-04-04 11:49:00</td>\n",
       "      <td>228.49</td>\n",
       "      <td>Chesapeake Operating, Inc.</td>\n",
       "      <td>BARC TRUST 1-14H</td>\n",
       "      <td>35.510061</td>\n",
       "      <td>-99.502796</td>\n",
       "      <td>Oklahoma</td>\n",
       "      <td>Roger Mills</td>\n",
       "      <td>POINT (-300991.269 -522369.780)</td>\n",
       "    </tr>\n",
       "    <tr>\n",
       "      <th>2</th>\n",
       "      <td>35129235740000</td>\n",
       "      <td>2011-12-12</td>\n",
       "      <td>2012-05-31 00:00:00</td>\n",
       "      <td>171.00</td>\n",
       "      <td>Chesapeake Operating, Inc.</td>\n",
       "      <td>WELTY 31-16-22 1H</td>\n",
       "      <td>35.812829</td>\n",
       "      <td>-99.577434</td>\n",
       "      <td>Oklahoma</td>\n",
       "      <td>Roger Mills</td>\n",
       "      <td>POINT (-306063.667 -486687.838)</td>\n",
       "    </tr>\n",
       "    <tr>\n",
       "      <th>3</th>\n",
       "      <td>35069201270000</td>\n",
       "      <td>2011-12-18</td>\n",
       "      <td>2012-03-04 00:00:00</td>\n",
       "      <td>77.00</td>\n",
       "      <td>XTO Energy/ExxonMobil</td>\n",
       "      <td>Saxon 1-26H</td>\n",
       "      <td>34.182750</td>\n",
       "      <td>-96.862389</td>\n",
       "      <td>Oklahoma</td>\n",
       "      <td>Johnston</td>\n",
       "      <td>POINT (-75531.849 -682794.595)</td>\n",
       "    </tr>\n",
       "    <tr>\n",
       "      <th>4</th>\n",
       "      <td>35043232270000</td>\n",
       "      <td>2012-02-01</td>\n",
       "      <td>2014-12-29 00:00:00</td>\n",
       "      <td>1062.00</td>\n",
       "      <td>Devon Energy Production Company L. P.</td>\n",
       "      <td>THREE SISTERS 1-21H</td>\n",
       "      <td>35.929180</td>\n",
       "      <td>-98.697750</td>\n",
       "      <td>Oklahoma</td>\n",
       "      <td>Dewey</td>\n",
       "      <td>POINT (-230438.851 -475548.556)</td>\n",
       "    </tr>\n",
       "  </tbody>\n",
       "</table>\n",
       "</div>"
      ],
      "text/plain": [
       "        APINumber JobStartDate          JobEndDate  Job Length  \\\n",
       "0  35063243750000   2011-07-12 2011-07-16 00:00:00        4.00   \n",
       "1  35129234950000   2011-08-20 2012-04-04 11:49:00      228.49   \n",
       "2  35129235740000   2011-12-12 2012-05-31 00:00:00      171.00   \n",
       "3  35069201270000   2011-12-18 2012-03-04 00:00:00       77.00   \n",
       "4  35043232270000   2012-02-01 2014-12-29 00:00:00     1062.00   \n",
       "\n",
       "                            OperatorName             WellName   Latitude  \\\n",
       "0                  XTO Energy/ExxonMobil         Reeder 4-23H  34.812528   \n",
       "1             Chesapeake Operating, Inc.     BARC TRUST 1-14H  35.510061   \n",
       "2             Chesapeake Operating, Inc.    WELTY 31-16-22 1H  35.812829   \n",
       "3                  XTO Energy/ExxonMobil          Saxon 1-26H  34.182750   \n",
       "4  Devon Energy Production Company L. P.  THREE SISTERS 1-21H  35.929180   \n",
       "\n",
       "   Longitude StateName   CountyName                         geometry  \n",
       "0 -96.116194  Oklahoma       Hughes   POINT (-10086.733 -609548.613)  \n",
       "1 -99.502796  Oklahoma  Roger Mills  POINT (-300991.269 -522369.780)  \n",
       "2 -99.577434  Oklahoma  Roger Mills  POINT (-306063.667 -486687.838)  \n",
       "3 -96.862389  Oklahoma     Johnston   POINT (-75531.849 -682794.595)  \n",
       "4 -98.697750  Oklahoma        Dewey  POINT (-230438.851 -475548.556)  "
      ]
     },
     "execution_count": 260,
     "metadata": {},
     "output_type": "execute_result"
    }
   ],
   "source": [
    "HFops_geoH"
   ]
  },
  {
   "cell_type": "code",
   "execution_count": null,
   "id": "761a72be",
   "metadata": {},
   "outputs": [],
   "source": [
    "matches = pd.DataFrame(columns = ['Mag', 'EQ_Date', 'EQ_Lat','EQ_Long',\n",
    "                                  'Well_Name','Well_Operator','Well_Start',\n",
    "                                  'Well_End','Well_Lat','Well_Long','Well_County'])\n",
    "\n",
    "for i in range(len(OKquakesGT2_geo)):\n",
    "    #initalize variables\n",
    "    eqtime  = OKquakesGT2_geo.iloc[i].origintime\n",
    "    quake = OKquakesGT2_geo.iloc[i].geometry\n",
    "    minDistance = 3.2\n",
    "    closeWellName = 'None'\n",
    "    closeOpName = 'None'\n",
    "    foundMatch = False\n",
    "\n",
    "    #filter hydraulic fracturing jobs to those that correlate in time\n",
    "    filtered_jobs = HFops_geo[(eqtime >= HFops_geo['JobStartDate']) & (eqtime <= HFops_geo['JobEndDate'])]\n",
    "    \n",
    "    #loop through jobs that match time window, and select nearest well, appending to DataFrame\n",
    "    for j in range(len(filtered_jobs)):\n",
    "        dist = filtered_jobs.iloc[j].geometry.distance(quake)/1609 #convert meters to miles\n",
    "        if dist < minDistance:\n",
    "            foundMatch = True\n",
    "            closeWellNumber = j\n",
    "            minDistance = dist\n",
    "    if foundMatch:\n",
    "        matches = matches.append({'Distance':minDistance,\n",
    "                                  'Mag':OKquakesGT2_geo.iloc[i].magnitude, \n",
    "                                  'EQ_Date':OKquakesGT2_geo.iloc[i].origintime, \n",
    "                                  'EQ_Lat':OKquakesGT2_geo.iloc[i].latitude,\n",
    "                                  'EQ_Long':OKquakesGT2_geo.iloc[i].longitude,\n",
    "                                  'Well_Name':filtered_jobs.iloc[closeWellNumber].WellName,\n",
    "                                  'Well_Operator':filtered_jobs.iloc[closeWellNumber].OperatorName,\n",
    "                                  'Well_Start':filtered_jobs.iloc[closeWellNumber].JobStartDate,\n",
    "                                  'Well_End':filtered_jobs.iloc[closeWellNumber].JobEndDate,\n",
    "                                  'Well_Lat':filtered_jobs.iloc[closeWellNumber].Latitude,\n",
    "                                  'Well_Long':filtered_jobs.iloc[closeWellNumber].Longitude,\n",
    "                                  'Well_County':filtered_jobs.iloc[closeWellNumber].CountyName},ignore_index=True)"
   ]
  },
  {
   "cell_type": "code",
   "execution_count": null,
   "id": "2f9de699",
   "metadata": {},
   "outputs": [],
   "source": [
    "matches"
   ]
  },
  {
   "cell_type": "code",
   "execution_count": null,
   "id": "052bb539",
   "metadata": {},
   "outputs": [],
   "source": [
    "matches3.to_csv(\"matches3.csv\")"
   ]
  },
  {
   "cell_type": "code",
   "execution_count": null,
   "id": "248aac15",
   "metadata": {},
   "outputs": [],
   "source": [
    "matches2.to_csv(\"matches2.csv\")"
   ]
  },
  {
   "cell_type": "code",
   "execution_count": null,
   "id": "8fe42988",
   "metadata": {},
   "outputs": [],
   "source": [
    "matches3.shape"
   ]
  },
  {
   "cell_type": "code",
   "execution_count": null,
   "id": "ab7e3696",
   "metadata": {},
   "outputs": [],
   "source": [
    "matches3.tail(30)"
   ]
  },
  {
   "cell_type": "code",
   "execution_count": null,
   "id": "2083678d",
   "metadata": {},
   "outputs": [],
   "source": []
  },
  {
   "cell_type": "code",
   "execution_count": null,
   "id": "18a5f61a",
   "metadata": {},
   "outputs": [],
   "source": []
  }
 ],
 "metadata": {
  "kernelspec": {
   "display_name": "Python 3 (ipykernel)",
   "language": "python",
   "name": "python3"
  },
  "language_info": {
   "codemirror_mode": {
    "name": "ipython",
    "version": 3
   },
   "file_extension": ".py",
   "mimetype": "text/x-python",
   "name": "python",
   "nbconvert_exporter": "python",
   "pygments_lexer": "ipython3",
   "version": "3.9.7"
  }
 },
 "nbformat": 4,
 "nbformat_minor": 5
}
