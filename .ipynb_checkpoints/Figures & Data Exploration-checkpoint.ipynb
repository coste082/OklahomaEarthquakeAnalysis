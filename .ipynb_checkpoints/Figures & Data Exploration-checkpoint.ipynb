{
 "cells": [
  {
   "cell_type": "code",
   "execution_count": 1,
   "id": "a5f05e96",
   "metadata": {},
   "outputs": [],
   "source": [
    "import pandas as pd\n",
    "import geopandas as gpd\n",
    "import numpy as np"
   ]
  },
  {
   "cell_type": "code",
   "execution_count": 34,
   "id": "4fb4c427",
   "metadata": {},
   "outputs": [],
   "source": [
    "dataOK = pd.read_csv(\"OK_earthquake_catalog.csv\")\n",
    "\n",
    "dataOK['origintime'] = pd.to_datetime(dataOK['origintime'])\n",
    "dataOK = dataOK[dataOK['magnitude'] != 'None']\n",
    "dataOK['month'] = pd.to_datetime(dataOK['origintime']).dt.to_period('M')\n",
    "dataOK = dataOK.reset_index()\n"
   ]
  },
  {
   "cell_type": "code",
   "execution_count": 122,
   "id": "8f189894",
   "metadata": {},
   "outputs": [
    {
     "data": {
      "image/png": "[encoded data removed]",
      "text/plain": [
       "<Figure size 432x288 with 1 Axes>"
      ]
     },
     "metadata": {
      "needs_background": "light"
     },
     "output_type": "display_data"
    }
   ],
   "source": [
    "monthlyDataAll = dataOK['origintime'].groupby([dataOK['month']]).agg('count')\n",
    "\n",
    "dataOK['magnitude'] = dataOK['magnitude'].astype(float)\n",
    "bigsOK = dataOK[dataOK['magnitude']>2]\n",
    "ax = bigsOK['origintime'].groupby([bigsOK['month']]).agg('count').plot(color='red',title=\"Oklahoma EQ > 2 Magnitude - Count Per Month\")\n",
    "ax.set_ylabel(\"Count\")\n",
    "ax.set_xlabel(\"Month\")\n",
    "fig = ax.get_figure()\n",
    "fig.savefig('Images/OKmonthlyEQ.jpg',dpi=1200)\n"
   ]
  },
  {
   "cell_type": "code",
   "execution_count": 47,
   "id": "f9b04cea",
   "metadata": {},
   "outputs": [
    {
     "data": {
      "text/plain": [
       "Index(['index', 'origintime', 'magnitude', 'magnitude_source', 'latitude',\n",
       "       'longitude', 'depth_km', 'month'],\n",
       "      dtype='object')"
      ]
     },
     "execution_count": 47,
     "metadata": {},
     "output_type": "execute_result"
    }
   ],
   "source": [
    "dataCA.columns"
   ]
  },
  {
   "cell_type": "code",
   "execution_count": 36,
   "id": "322ea02b",
   "metadata": {},
   "outputs": [
    {
     "name": "stderr",
     "output_type": "stream",
     "text": [
      "C:\\Users\\danco\\anaconda3\\lib\\site-packages\\pandas\\core\\arrays\\datetimes.py:1143: UserWarning: Converting to PeriodArray/Index representation will drop timezone information.\n",
      "  warnings.warn(\n"
     ]
    }
   ],
   "source": [
    "dataCA = pd.read_csv(\"CA_earthquake_catalog.csv\")\n",
    "\n",
    "dataCA['origintime'] = pd.to_datetime(dataCA['origintime'])\n",
    "dataCA['month'] = pd.to_datetime(dataCA['origintime']).dt.to_period('M')\n",
    "dataCA = dataCA.reset_index()\n",
    "# dataOK.head(20)"
   ]
  },
  {
   "cell_type": "code",
   "execution_count": 40,
   "id": "83c81037",
   "metadata": {},
   "outputs": [],
   "source": [
    "outline_CA = gpd.read_file(\"./Shapefiles/CA_State_TIGER2016.shp\")"
   ]
  },
  {
   "cell_type": "code",
   "execution_count": 67,
   "id": "de2847cc",
   "metadata": {},
   "outputs": [],
   "source": [
    "outline_CA =outline_CA.to_crs(\"EPSG:4326\")"
   ]
  },
  {
   "cell_type": "code",
   "execution_count": 79,
   "id": "463cbe48",
   "metadata": {},
   "outputs": [
    {
     "data": {
      "text/html": [
       "<div>\n",
       "<style scoped>\n",
       "    .dataframe tbody tr th:only-of-type {\n",
       "        vertical-align: middle;\n",
       "    }\n",
       "\n",
       "    .dataframe tbody tr th {\n",
       "        vertical-align: top;\n",
       "    }\n",
       "\n",
       "    .dataframe thead th {\n",
       "        text-align: right;\n",
       "    }\n",
       "</style>\n",
       "<table border=\"1\" class=\"dataframe\">\n",
       "  <thead>\n",
       "    <tr style=\"text-align: right;\">\n",
       "      <th></th>\n",
       "      <th>REGION</th>\n",
       "      <th>DIVISION</th>\n",
       "      <th>STATEFP</th>\n",
       "      <th>STATENS</th>\n",
       "      <th>GEOID</th>\n",
       "      <th>STUSPS</th>\n",
       "      <th>NAME</th>\n",
       "      <th>LSAD</th>\n",
       "      <th>MTFCC</th>\n",
       "      <th>FUNCSTAT</th>\n",
       "      <th>ALAND</th>\n",
       "      <th>AWATER</th>\n",
       "      <th>INTPTLAT</th>\n",
       "      <th>INTPTLON</th>\n",
       "      <th>geometry</th>\n",
       "    </tr>\n",
       "  </thead>\n",
       "  <tbody>\n",
       "    <tr>\n",
       "      <th>0</th>\n",
       "      <td>4</td>\n",
       "      <td>9</td>\n",
       "      <td>06</td>\n",
       "      <td>01779778</td>\n",
       "      <td>06</td>\n",
       "      <td>CA</td>\n",
       "      <td>California</td>\n",
       "      <td>00</td>\n",
       "      <td>G4000</td>\n",
       "      <td>A</td>\n",
       "      <td>403501101370</td>\n",
       "      <td>20466718403</td>\n",
       "      <td>+37.1551773</td>\n",
       "      <td>-119.5434183</td>\n",
       "      <td>MULTIPOLYGON (((-119.63473 33.26545, -119.6363...</td>\n",
       "    </tr>\n",
       "  </tbody>\n",
       "</table>\n",
       "</div>"
      ],
      "text/plain": [
       "  REGION DIVISION STATEFP   STATENS GEOID STUSPS        NAME LSAD  MTFCC  \\\n",
       "0      4        9      06  01779778    06     CA  California   00  G4000   \n",
       "\n",
       "  FUNCSTAT         ALAND       AWATER     INTPTLAT      INTPTLON  \\\n",
       "0        A  403501101370  20466718403  +37.1551773  -119.5434183   \n",
       "\n",
       "                                            geometry  \n",
       "0  MULTIPOLYGON (((-119.63473 33.26545, -119.6363...  "
      ]
     },
     "execution_count": 79,
     "metadata": {},
     "output_type": "execute_result"
    }
   ],
   "source": [
    "outline_CA.head()"
   ]
  },
  {
   "cell_type": "code",
   "execution_count": 59,
   "id": "d8654710",
   "metadata": {},
   "outputs": [],
   "source": [
    "gdf_CA_quakes = gpd.GeoDataFrame(\n",
    "    dataCA, geometry=gpd.points_from_xy(dataCA.longitude, dataCA.latitude))"
   ]
  },
  {
   "cell_type": "code",
   "execution_count": 62,
   "id": "8df25d86",
   "metadata": {},
   "outputs": [
    {
     "data": {
      "text/html": [
       "<div>\n",
       "<style scoped>\n",
       "    .dataframe tbody tr th:only-of-type {\n",
       "        vertical-align: middle;\n",
       "    }\n",
       "\n",
       "    .dataframe tbody tr th {\n",
       "        vertical-align: top;\n",
       "    }\n",
       "\n",
       "    .dataframe thead th {\n",
       "        text-align: right;\n",
       "    }\n",
       "</style>\n",
       "<table border=\"1\" class=\"dataframe\">\n",
       "  <thead>\n",
       "    <tr style=\"text-align: right;\">\n",
       "      <th></th>\n",
       "      <th>index</th>\n",
       "      <th>origintime</th>\n",
       "      <th>magnitude</th>\n",
       "      <th>magnitude_source</th>\n",
       "      <th>latitude</th>\n",
       "      <th>longitude</th>\n",
       "      <th>depth_km</th>\n",
       "      <th>month</th>\n",
       "      <th>geometry</th>\n",
       "    </tr>\n",
       "  </thead>\n",
       "  <tbody>\n",
       "    <tr>\n",
       "      <th>0</th>\n",
       "      <td>0</td>\n",
       "      <td>2019-07-06 03:19:53.040000+00:00</td>\n",
       "      <td>7.1</td>\n",
       "      <td>USGS</td>\n",
       "      <td>35.769500</td>\n",
       "      <td>-117.599333</td>\n",
       "      <td>8.000</td>\n",
       "      <td>2019-07</td>\n",
       "      <td>POINT (-117.59933 35.76950)</td>\n",
       "    </tr>\n",
       "    <tr>\n",
       "      <th>1</th>\n",
       "      <td>1</td>\n",
       "      <td>2003-12-22 19:15:56.240000+00:00</td>\n",
       "      <td>6.5</td>\n",
       "      <td>USGS</td>\n",
       "      <td>35.700500</td>\n",
       "      <td>-121.100500</td>\n",
       "      <td>8.382</td>\n",
       "      <td>2003-12</td>\n",
       "      <td>POINT (-121.10050 35.70050)</td>\n",
       "    </tr>\n",
       "    <tr>\n",
       "      <th>2</th>\n",
       "      <td>2</td>\n",
       "      <td>2020-05-15 11:03:27.176000+00:00</td>\n",
       "      <td>6.5</td>\n",
       "      <td>USGS</td>\n",
       "      <td>38.168900</td>\n",
       "      <td>-117.849700</td>\n",
       "      <td>2.700</td>\n",
       "      <td>2020-05</td>\n",
       "      <td>POINT (-117.84970 38.16890)</td>\n",
       "    </tr>\n",
       "    <tr>\n",
       "      <th>3</th>\n",
       "      <td>3</td>\n",
       "      <td>2019-07-04 17:33:49+00:00</td>\n",
       "      <td>6.4</td>\n",
       "      <td>USGS</td>\n",
       "      <td>35.705333</td>\n",
       "      <td>-117.503833</td>\n",
       "      <td>10.500</td>\n",
       "      <td>2019-07</td>\n",
       "      <td>POINT (-117.50383 35.70533)</td>\n",
       "    </tr>\n",
       "    <tr>\n",
       "      <th>4</th>\n",
       "      <td>4</td>\n",
       "      <td>2021-12-20 20:10:31.310000+00:00</td>\n",
       "      <td>6.2</td>\n",
       "      <td>USGS</td>\n",
       "      <td>40.390167</td>\n",
       "      <td>-124.298000</td>\n",
       "      <td>27.040</td>\n",
       "      <td>2021-12</td>\n",
       "      <td>POINT (-124.29800 40.39017)</td>\n",
       "    </tr>\n",
       "  </tbody>\n",
       "</table>\n",
       "</div>"
      ],
      "text/plain": [
       "   index                       origintime  magnitude magnitude_source  \\\n",
       "0      0 2019-07-06 03:19:53.040000+00:00        7.1             USGS   \n",
       "1      1 2003-12-22 19:15:56.240000+00:00        6.5             USGS   \n",
       "2      2 2020-05-15 11:03:27.176000+00:00        6.5             USGS   \n",
       "3      3        2019-07-04 17:33:49+00:00        6.4             USGS   \n",
       "4      4 2021-12-20 20:10:31.310000+00:00        6.2             USGS   \n",
       "\n",
       "    latitude   longitude  depth_km    month                     geometry  \n",
       "0  35.769500 -117.599333     8.000  2019-07  POINT (-117.59933 35.76950)  \n",
       "1  35.700500 -121.100500     8.382  2003-12  POINT (-121.10050 35.70050)  \n",
       "2  38.168900 -117.849700     2.700  2020-05  POINT (-117.84970 38.16890)  \n",
       "3  35.705333 -117.503833    10.500  2019-07  POINT (-117.50383 35.70533)  \n",
       "4  40.390167 -124.298000    27.040  2021-12  POINT (-124.29800 40.39017)  "
      ]
     },
     "execution_count": 62,
     "metadata": {},
     "output_type": "execute_result"
    }
   ],
   "source": [
    "gdf_CA_quakes.head()"
   ]
  },
  {
   "cell_type": "code",
   "execution_count": 64,
   "id": "f3a8cbad",
   "metadata": {},
   "outputs": [],
   "source": [
    "gdf_CA_quakes = gdf_CA_quakes.set_crs(\"EPSG:4326\")\n",
    "gdf_CA_quakes = gdf_CA_quakes.to_crs(\"EPSG:4326\")"
   ]
  },
  {
   "cell_type": "code",
   "execution_count": 71,
   "id": "9ac70216",
   "metadata": {},
   "outputs": [
    {
     "data": {
      "text/plain": [
       "<AxesSubplot:>"
      ]
     },
     "execution_count": 71,
     "metadata": {},
     "output_type": "execute_result"
    },
    {
     "data": {
      "image/png": "[encoded data removed]",
      "text/plain": [
       "<Figure size 432x288 with 1 Axes>"
      ]
     },
     "metadata": {
      "needs_background": "light"
     },
     "output_type": "display_data"
    }
   ],
   "source": [
    "base = outline_CA.boundary.plot()\n",
    "gdf_CA_quakes.plot(ax=base, marker='o', color='red', markersize=1)\n",
    "# base = outline_CA.plot()"
   ]
  },
  {
   "cell_type": "code",
   "execution_count": 87,
   "id": "8bb84361",
   "metadata": {},
   "outputs": [],
   "source": [
    "CA_quakes_mask = gdf_CA_quakes.within(outline_CA.loc[0,'geometry'])"
   ]
  },
  {
   "cell_type": "code",
   "execution_count": 88,
   "id": "aa94c6a2",
   "metadata": {},
   "outputs": [],
   "source": [
    "gdf_CA_quakes_filter = gdf_CA_quakes.loc[CA_quakes_mask]"
   ]
  },
  {
   "cell_type": "code",
   "execution_count": 89,
   "id": "e124761d",
   "metadata": {},
   "outputs": [
    {
     "data": {
      "text/plain": [
       "<AxesSubplot:>"
      ]
     },
     "execution_count": 89,
     "metadata": {},
     "output_type": "execute_result"
    },
    {
     "data": {
      "image/png": "[encoded data removed]",
      "text/plain": [
       "<Figure size 432x288 with 1 Axes>"
      ]
     },
     "metadata": {
      "needs_background": "light"
     },
     "output_type": "display_data"
    }
   ],
   "source": [
    "gdf_CA_quakes_filter.plot()"
   ]
  },
  {
   "cell_type": "code",
   "execution_count": 123,
   "id": "06fae57f",
   "metadata": {},
   "outputs": [
    {
     "name": "stderr",
     "output_type": "stream",
     "text": [
      "C:\\Users\\danco\\anaconda3\\lib\\site-packages\\geopandas\\geodataframe.py:1443: SettingWithCopyWarning: \n",
      "A value is trying to be set on a copy of a slice from a DataFrame.\n",
      "Try using .loc[row_indexer,col_indexer] = value instead\n",
      "\n",
      "See the caveats in the documentation: https://pandas.pydata.org/pandas-docs/stable/user_guide/indexing.html#returning-a-view-versus-a-copy\n",
      "  super().__setitem__(key, value)\n"
     ]
    },
    {
     "data": {
      "image/png": "[encoded data removed]",
      "text/plain": [
       "<Figure size 432x288 with 1 Axes>"
      ]
     },
     "metadata": {
      "needs_background": "light"
     },
     "output_type": "display_data"
    }
   ],
   "source": [
    "\n",
    "monthlyDataAllCA_filtered = gdf_CA_quakes_filter['origintime'].groupby([gdf_CA_quakes_filter['month']]).agg('count')\n",
    "# monthlyDataAll.plot()\n",
    "gdf_CA_quakes_filter['magnitude'] = gdf_CA_quakes_filter['magnitude'].astype(float)\n",
    "gdf_CA_quakes_big = gdf_CA_quakes_filter[gdf_CA_quakes_filter['magnitude']>2]\n",
    "ax = gdf_CA_quakes_big['origintime'].groupby([gdf_CA_quakes_big['month']]).agg('count').plot(color='blue',title=\"California EQ > 2 Magnitude - Count Per Month\")\n",
    "ax.set_ylabel(\"Count\")\n",
    "ax.set_xlabel(\"Month\")\n",
    "fig = ax.get_figure()\n",
    "fig.savefig('Images/CAmonthlyEQ.jpg',dpi=1200)\n",
    "\n",
    "# bigsOK['origintime'].groupby([bigsOK['month']]).agg('count').plot()"
   ]
  },
  {
   "cell_type": "code",
   "execution_count": 124,
   "id": "9000e291",
   "metadata": {},
   "outputs": [
    {
     "name": "stderr",
     "output_type": "stream",
     "text": [
      "C:\\Users\\danco\\anaconda3\\lib\\site-packages\\geopandas\\geodataframe.py:1443: SettingWithCopyWarning: \n",
      "A value is trying to be set on a copy of a slice from a DataFrame.\n",
      "Try using .loc[row_indexer,col_indexer] = value instead\n",
      "\n",
      "See the caveats in the documentation: https://pandas.pydata.org/pandas-docs/stable/user_guide/indexing.html#returning-a-view-versus-a-copy\n",
      "  super().__setitem__(key, value)\n",
      "C:\\Users\\danco\\AppData\\Local\\Temp/ipykernel_484/3551901149.py:4: SettingWithCopyWarning: \n",
      "A value is trying to be set on a copy of a slice from a DataFrame.\n",
      "Try using .loc[row_indexer,col_indexer] = value instead\n",
      "\n",
      "See the caveats in the documentation: https://pandas.pydata.org/pandas-docs/stable/user_guide/indexing.html#returning-a-view-versus-a-copy\n",
      "  bigsOK['Oklahoma'] = bigsOK['origintime']\n"
     ]
    },
    {
     "data": {
      "image/png": "[encoded data removed]",
      "text/plain": [
       "<Figure size 432x288 with 1 Axes>"
      ]
     },
     "metadata": {
      "needs_background": "light"
     },
     "output_type": "display_data"
    }
   ],
   "source": [
    "gdf_CA_quakes_big['California'] = gdf_CA_quakes_big['origintime']\n",
    "ax = gdf_CA_quakes_big['California'].groupby([gdf_CA_quakes_big['month']]).agg('count').plot(color='blue')\n",
    "\n",
    "bigsOK['Oklahoma'] = bigsOK['origintime']\n",
    "bigsOK['Oklahoma'].groupby([bigsOK['month']]).agg('count').plot(color='red',title=\"California and Oklahoma - EQ Frequency Comparison\")\n",
    "ax.set_ylabel(\"Count\")\n",
    "ax.set_xlabel(\"Month\")\n",
    "ax.legend()\n",
    "fig = ax.get_figure()\n",
    "fig.savefig('Images/CA-OK_Comparison.jpg',dpi=1200)\n",
    "\n",
    "# bigsOK['origintime'].groupby([bigsOK['month']]).agg('count').plot()"
   ]
  },
  {
   "cell_type": "code",
   "execution_count": 120,
   "id": "d47b86a0",
   "metadata": {},
   "outputs": [
    {
     "name": "stdout",
     "output_type": "stream",
     "text": [
      "256.67391304347825\n",
      "359.0361878553795\n"
     ]
    }
   ],
   "source": [
    "ca_monthly_count = gdf_CA_quakes_big['California'].groupby([gdf_CA_quakes_big['month']]).agg('count')\n",
    "print(ca_monthly_count.mean())\n",
    "print(ca_monthly_count.std())"
   ]
  },
  {
   "cell_type": "code",
   "execution_count": 125,
   "id": "50139110",
   "metadata": {},
   "outputs": [
    {
     "name": "stdout",
     "output_type": "stream",
     "text": [
      "99.96218487394958\n",
      "159.92871117097633\n"
     ]
    }
   ],
   "source": [
    "ok_monthly_count = bigsOK['Oklahoma'].groupby([bigsOK['month']]).agg('count')\n",
    "print(ok_monthly_count.mean())\n",
    "print(ok_monthly_count.std())"
   ]
  },
  {
   "cell_type": "code",
   "execution_count": 127,
   "id": "59d45462",
   "metadata": {},
   "outputs": [
    {
     "data": {
      "text/plain": [
       "month\n",
       "2000-01     1\n",
       "2000-04     3\n",
       "2000-05     1\n",
       "2000-06     1\n",
       "2000-10     1\n",
       "           ..\n",
       "2022-07    13\n",
       "2022-08     9\n",
       "2022-09    16\n",
       "2022-10    51\n",
       "2022-11    35\n",
       "Freq: M, Name: Oklahoma, Length: 238, dtype: int64"
      ]
     },
     "execution_count": 127,
     "metadata": {},
     "output_type": "execute_result"
    }
   ],
   "source": [
    "ok_monthly_count.head(250)"
   ]
  },
  {
   "cell_type": "code",
   "execution_count": 128,
   "id": "fa641e4c",
   "metadata": {},
   "outputs": [
    {
     "ename": "ValueError",
     "evalue": "Only can inner (intersect) or outer (union) join the other axis",
     "output_type": "error",
     "traceback": [
      "\u001b[1;31m---------------------------------------------------------------------------\u001b[0m",
      "\u001b[1;31mValueError\u001b[0m                                Traceback (most recent call last)",
      "\u001b[1;32m~\\AppData\\Local\\Temp/ipykernel_484/1787896639.py\u001b[0m in \u001b[0;36m<module>\u001b[1;34m\u001b[0m\n\u001b[1;32m----> 1\u001b[1;33m \u001b[0mresult\u001b[0m \u001b[1;33m=\u001b[0m \u001b[0mpd\u001b[0m\u001b[1;33m.\u001b[0m\u001b[0mconcat\u001b[0m\u001b[1;33m(\u001b[0m\u001b[1;33m[\u001b[0m\u001b[0mca_monthly_count\u001b[0m\u001b[1;33m,\u001b[0m \u001b[0mok_monthly_count\u001b[0m\u001b[1;33m]\u001b[0m\u001b[1;33m,\u001b[0m \u001b[0maxis\u001b[0m\u001b[1;33m=\u001b[0m\u001b[1;36m1\u001b[0m\u001b[1;33m,\u001b[0m \u001b[0mjoin\u001b[0m\u001b[1;33m=\u001b[0m\u001b[1;34m\"left\"\u001b[0m\u001b[1;33m)\u001b[0m\u001b[1;33m\u001b[0m\u001b[1;33m\u001b[0m\u001b[0m\n\u001b[0m",
      "\u001b[1;32m~\\anaconda3\\lib\\site-packages\\pandas\\util\\_decorators.py\u001b[0m in \u001b[0;36mwrapper\u001b[1;34m(*args, **kwargs)\u001b[0m\n\u001b[0;32m    309\u001b[0m                     \u001b[0mstacklevel\u001b[0m\u001b[1;33m=\u001b[0m\u001b[0mstacklevel\u001b[0m\u001b[1;33m,\u001b[0m\u001b[1;33m\u001b[0m\u001b[1;33m\u001b[0m\u001b[0m\n\u001b[0;32m    310\u001b[0m                 )\n\u001b[1;32m--> 311\u001b[1;33m             \u001b[1;32mreturn\u001b[0m \u001b[0mfunc\u001b[0m\u001b[1;33m(\u001b[0m\u001b[1;33m*\u001b[0m\u001b[0margs\u001b[0m\u001b[1;33m,\u001b[0m \u001b[1;33m**\u001b[0m\u001b[0mkwargs\u001b[0m\u001b[1;33m)\u001b[0m\u001b[1;33m\u001b[0m\u001b[1;33m\u001b[0m\u001b[0m\n\u001b[0m\u001b[0;32m    312\u001b[0m \u001b[1;33m\u001b[0m\u001b[0m\n\u001b[0;32m    313\u001b[0m         \u001b[1;32mreturn\u001b[0m \u001b[0mwrapper\u001b[0m\u001b[1;33m\u001b[0m\u001b[1;33m\u001b[0m\u001b[0m\n",
      "\u001b[1;32m~\\anaconda3\\lib\\site-packages\\pandas\\core\\reshape\\concat.py\u001b[0m in \u001b[0;36mconcat\u001b[1;34m(objs, axis, join, ignore_index, keys, levels, names, verify_integrity, sort, copy)\u001b[0m\n\u001b[0;32m    292\u001b[0m     \u001b[0mValueError\u001b[0m\u001b[1;33m:\u001b[0m \u001b[0mIndexes\u001b[0m \u001b[0mhave\u001b[0m \u001b[0moverlapping\u001b[0m \u001b[0mvalues\u001b[0m\u001b[1;33m:\u001b[0m \u001b[1;33m[\u001b[0m\u001b[1;34m'a'\u001b[0m\u001b[1;33m]\u001b[0m\u001b[1;33m\u001b[0m\u001b[1;33m\u001b[0m\u001b[0m\n\u001b[0;32m    293\u001b[0m     \"\"\"\n\u001b[1;32m--> 294\u001b[1;33m     op = _Concatenator(\n\u001b[0m\u001b[0;32m    295\u001b[0m         \u001b[0mobjs\u001b[0m\u001b[1;33m,\u001b[0m\u001b[1;33m\u001b[0m\u001b[1;33m\u001b[0m\u001b[0m\n\u001b[0;32m    296\u001b[0m         \u001b[0maxis\u001b[0m\u001b[1;33m=\u001b[0m\u001b[0maxis\u001b[0m\u001b[1;33m,\u001b[0m\u001b[1;33m\u001b[0m\u001b[1;33m\u001b[0m\u001b[0m\n",
      "\u001b[1;32m~\\anaconda3\\lib\\site-packages\\pandas\\core\\reshape\\concat.py\u001b[0m in \u001b[0;36m__init__\u001b[1;34m(self, objs, axis, join, keys, levels, names, ignore_index, verify_integrity, copy, sort)\u001b[0m\n\u001b[0;32m    337\u001b[0m             \u001b[0mself\u001b[0m\u001b[1;33m.\u001b[0m\u001b[0mintersect\u001b[0m \u001b[1;33m=\u001b[0m \u001b[1;32mTrue\u001b[0m\u001b[1;33m\u001b[0m\u001b[1;33m\u001b[0m\u001b[0m\n\u001b[0;32m    338\u001b[0m         \u001b[1;32melse\u001b[0m\u001b[1;33m:\u001b[0m  \u001b[1;31m# pragma: no cover\u001b[0m\u001b[1;33m\u001b[0m\u001b[1;33m\u001b[0m\u001b[0m\n\u001b[1;32m--> 339\u001b[1;33m             raise ValueError(\n\u001b[0m\u001b[0;32m    340\u001b[0m                 \u001b[1;34m\"Only can inner (intersect) or outer (union) join the other axis\"\u001b[0m\u001b[1;33m\u001b[0m\u001b[1;33m\u001b[0m\u001b[0m\n\u001b[0;32m    341\u001b[0m             )\n",
      "\u001b[1;31mValueError\u001b[0m: Only can inner (intersect) or outer (union) join the other axis"
     ]
    }
   ],
   "source": [
    "result = pd.concat([ca_monthly_count, ok_monthly_count], axis=1, join=\"left\")"
   ]
  },
  {
   "cell_type": "code",
   "execution_count": 130,
   "id": "b783606f",
   "metadata": {},
   "outputs": [],
   "source": [
    "df = pd.merge(ca_monthly_count, ok_monthly_count, right_index = True,\n",
    "               left_index = True)"
   ]
  },
  {
   "cell_type": "code",
   "execution_count": 134,
   "id": "682ddcfd",
   "metadata": {},
   "outputs": [],
   "source": [
    "df=pd.DataFrame(ca_monthly_count).join(ok_monthly_count)\n",
    "df = df.fillna(0)"
   ]
  },
  {
   "cell_type": "code",
   "execution_count": 137,
   "id": "cf2e0dc5",
   "metadata": {},
   "outputs": [],
   "source": [
    "before2010 = df.head(120)"
   ]
  },
  {
   "cell_type": "code",
   "execution_count": 141,
   "id": "b3c160e7",
   "metadata": {},
   "outputs": [
    {
     "name": "stdout",
     "output_type": "stream",
     "text": [
      "256.67391304347825\n",
      "86.19927536231884\n"
     ]
    }
   ],
   "source": [
    "print(before2010['California'].mean())\n",
    "print(before2010['Oklahoma'].mean())"
   ]
  },
  {
   "cell_type": "code",
   "execution_count": null,
   "id": "efd04d15",
   "metadata": {},
   "outputs": [],
   "source": []
  }
 ],
 "metadata": {
  "kernelspec": {
   "display_name": "Python 3 (ipykernel)",
   "language": "python",
   "name": "python3"
  },
  "language_info": {
   "codemirror_mode": {
    "name": "ipython",
    "version": 3
   },
   "file_extension": ".py",
   "mimetype": "text/x-python",
   "name": "python",
   "nbconvert_exporter": "python",
   "pygments_lexer": "ipython3",
   "version": "3.9.7"
  }
 },
 "nbformat": 4,
 "nbformat_minor": 5
}
